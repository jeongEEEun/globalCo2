{
 "cells": [
  {
   "cell_type": "code",
   "execution_count": 1,
   "id": "bfc07c65",
   "metadata": {},
   "outputs": [],
   "source": [
    "import pandas as pd"
   ]
  },
  {
   "cell_type": "code",
   "execution_count": 2,
   "id": "f2a7339b",
   "metadata": {},
   "outputs": [],
   "source": [
    "gdp = pd.read_csv('data/oecdstat_gdp.csv')\n",
    "gdp_growth = pd.read_csv('data/oecdstat_gdp_growth.csv')"
   ]
  },
  {
   "cell_type": "markdown",
   "id": "6d0ee4a8",
   "metadata": {},
   "source": [
    "# 국가별 GDP"
   ]
  },
  {
   "cell_type": "markdown",
   "id": "54bab7bb",
   "metadata": {},
   "source": [
    "## 컬럼 정리"
   ]
  },
  {
   "cell_type": "code",
   "execution_count": 3,
   "id": "cd771fad",
   "metadata": {},
   "outputs": [
    {
     "data": {
      "text/html": [
       "<div>\n",
       "<style scoped>\n",
       "    .dataframe tbody tr th:only-of-type {\n",
       "        vertical-align: middle;\n",
       "    }\n",
       "\n",
       "    .dataframe tbody tr th {\n",
       "        vertical-align: top;\n",
       "    }\n",
       "\n",
       "    .dataframe thead th {\n",
       "        text-align: right;\n",
       "    }\n",
       "</style>\n",
       "<table border=\"1\" class=\"dataframe\">\n",
       "  <thead>\n",
       "    <tr style=\"text-align: right;\">\n",
       "      <th></th>\n",
       "      <th>Country</th>\n",
       "      <th>LOCATION</th>\n",
       "      <th>Year</th>\n",
       "      <th>Value</th>\n",
       "    </tr>\n",
       "  </thead>\n",
       "  <tbody>\n",
       "    <tr>\n",
       "      <th>0</th>\n",
       "      <td>Australia</td>\n",
       "      <td>AUS</td>\n",
       "      <td>1959</td>\n",
       "      <td>16613.000000</td>\n",
       "    </tr>\n",
       "    <tr>\n",
       "      <th>1</th>\n",
       "      <td>Australia</td>\n",
       "      <td>AUS</td>\n",
       "      <td>1960</td>\n",
       "      <td>17574.000000</td>\n",
       "    </tr>\n",
       "    <tr>\n",
       "      <th>2</th>\n",
       "      <td>Australia</td>\n",
       "      <td>AUS</td>\n",
       "      <td>1961</td>\n",
       "      <td>17788.000000</td>\n",
       "    </tr>\n",
       "    <tr>\n",
       "      <th>3</th>\n",
       "      <td>Australia</td>\n",
       "      <td>AUS</td>\n",
       "      <td>1962</td>\n",
       "      <td>19232.000000</td>\n",
       "    </tr>\n",
       "    <tr>\n",
       "      <th>4</th>\n",
       "      <td>Australia</td>\n",
       "      <td>AUS</td>\n",
       "      <td>1963</td>\n",
       "      <td>21251.000000</td>\n",
       "    </tr>\n",
       "    <tr>\n",
       "      <th>...</th>\n",
       "      <td>...</td>\n",
       "      <td>...</td>\n",
       "      <td>...</td>\n",
       "      <td>...</td>\n",
       "    </tr>\n",
       "    <tr>\n",
       "      <th>5044</th>\n",
       "      <td>Senegal</td>\n",
       "      <td>SEN</td>\n",
       "      <td>2016</td>\n",
       "      <td>6.356069</td>\n",
       "    </tr>\n",
       "    <tr>\n",
       "      <th>5045</th>\n",
       "      <td>Senegal</td>\n",
       "      <td>SEN</td>\n",
       "      <td>2017</td>\n",
       "      <td>7.407486</td>\n",
       "    </tr>\n",
       "    <tr>\n",
       "      <th>5046</th>\n",
       "      <td>Senegal</td>\n",
       "      <td>SEN</td>\n",
       "      <td>2018</td>\n",
       "      <td>6.209241</td>\n",
       "    </tr>\n",
       "    <tr>\n",
       "      <th>5047</th>\n",
       "      <td>Senegal</td>\n",
       "      <td>SEN</td>\n",
       "      <td>2019</td>\n",
       "      <td>4.613628</td>\n",
       "    </tr>\n",
       "    <tr>\n",
       "      <th>5048</th>\n",
       "      <td>Senegal</td>\n",
       "      <td>SEN</td>\n",
       "      <td>2020</td>\n",
       "      <td>1.325505</td>\n",
       "    </tr>\n",
       "  </tbody>\n",
       "</table>\n",
       "<p>5049 rows × 4 columns</p>\n",
       "</div>"
      ],
      "text/plain": [
       "        Country LOCATION  Year         Value\n",
       "0     Australia      AUS  1959  16613.000000\n",
       "1     Australia      AUS  1960  17574.000000\n",
       "2     Australia      AUS  1961  17788.000000\n",
       "3     Australia      AUS  1962  19232.000000\n",
       "4     Australia      AUS  1963  21251.000000\n",
       "...         ...      ...   ...           ...\n",
       "5044    Senegal      SEN  2016      6.356069\n",
       "5045    Senegal      SEN  2017      7.407486\n",
       "5046    Senegal      SEN  2018      6.209241\n",
       "5047    Senegal      SEN  2019      4.613628\n",
       "5048    Senegal      SEN  2020      1.325505\n",
       "\n",
       "[5049 rows x 4 columns]"
      ]
     },
     "execution_count": 3,
     "metadata": {},
     "output_type": "execute_result"
    }
   ],
   "source": [
    "gdp = gdp[['Country', 'LOCATION', 'Year', 'Value']]\n",
    "gdp"
   ]
  },
  {
   "cell_type": "code",
   "execution_count": 4,
   "id": "17954528",
   "metadata": {},
   "outputs": [],
   "source": [
    "gdp.columns = ['국가명', '국가코드', '기준연도', 'gdp']"
   ]
  },
  {
   "cell_type": "markdown",
   "id": "cc2147fe",
   "metadata": {},
   "source": [
    "## csv 파일으로 저장"
   ]
  },
  {
   "cell_type": "code",
   "execution_count": 5,
   "id": "e43bf42a",
   "metadata": {},
   "outputs": [],
   "source": [
    "gdp.to_csv('gdp.csv', encoding='utf-8', index=False)"
   ]
  },
  {
   "cell_type": "markdown",
   "id": "7f5be42c",
   "metadata": {},
   "source": [
    "# 국가별 GDP 성장률"
   ]
  },
  {
   "cell_type": "markdown",
   "id": "0febdf64",
   "metadata": {},
   "source": [
    "## 컬럼 정리"
   ]
  },
  {
   "cell_type": "code",
   "execution_count": 6,
   "id": "22f63784",
   "metadata": {},
   "outputs": [],
   "source": [
    "gdp_growth = gdp_growth[['Country', 'LOCATION', 'Year', 'Value']]"
   ]
  },
  {
   "cell_type": "code",
   "execution_count": 7,
   "id": "9262e030",
   "metadata": {},
   "outputs": [],
   "source": [
    "gdp_growth.columns = ['국가명', '국가코드', '기준연도', 'gdp성장률']"
   ]
  },
  {
   "cell_type": "markdown",
   "id": "f6521232",
   "metadata": {},
   "source": [
    "## csv 파일으로 저장"
   ]
  },
  {
   "cell_type": "code",
   "execution_count": 8,
   "id": "01d97af0",
   "metadata": {},
   "outputs": [],
   "source": [
    "gdp_growth.to_csv('gdp_성장률.csv', encoding='utf-8', index=False)"
   ]
  }
 ],
 "metadata": {
  "kernelspec": {
   "display_name": "ex_kernel",
   "language": "python",
   "name": "ex"
  },
  "language_info": {
   "codemirror_mode": {
    "name": "ipython",
    "version": 3
   },
   "file_extension": ".py",
   "mimetype": "text/x-python",
   "name": "python",
   "nbconvert_exporter": "python",
   "pygments_lexer": "ipython3",
   "version": "3.8.10"
  },
  "toc": {
   "base_numbering": 1,
   "nav_menu": {},
   "number_sections": true,
   "sideBar": true,
   "skip_h1_title": false,
   "title_cell": "Table of Contents",
   "title_sidebar": "Contents",
   "toc_cell": false,
   "toc_position": {},
   "toc_section_display": true,
   "toc_window_display": false
  }
 },
 "nbformat": 4,
 "nbformat_minor": 5
}
