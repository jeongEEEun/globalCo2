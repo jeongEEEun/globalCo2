{
 "cells": [
  {
   "cell_type": "code",
   "execution_count": 1,
   "id": "bfc07c65",
   "metadata": {},
   "outputs": [],
   "source": [
    "import pandas as pd"
   ]
  },
  {
   "cell_type": "code",
   "execution_count": 2,
   "id": "f2a7339b",
   "metadata": {},
   "outputs": [],
   "source": [
    "gdp = pd.read_csv('국가별_gdp.csv')"
   ]
  },
  {
   "cell_type": "code",
   "execution_count": 4,
   "id": "8c6cb16e",
   "metadata": {
    "scrolled": true
   },
   "outputs": [
    {
     "name": "stdout",
     "output_type": "stream",
     "text": [
      "<class 'pandas.core.frame.DataFrame'>\n",
      "RangeIndex: 5049 entries, 0 to 5048\n",
      "Data columns (total 17 columns):\n",
      " #   Column                 Non-Null Count  Dtype  \n",
      "---  ------                 --------------  -----  \n",
      " 0   LOCATION               5049 non-null   object \n",
      " 1   Country                5049 non-null   object \n",
      " 2   TRANSACT               5049 non-null   object \n",
      " 3   Transaction            5049 non-null   object \n",
      " 4   MEASURE                5049 non-null   object \n",
      " 5   Measure                5049 non-null   object \n",
      " 6   TIME                   5049 non-null   int64  \n",
      " 7   Year                   5049 non-null   int64  \n",
      " 8   Unit Code              5049 non-null   object \n",
      " 9   Unit                   5049 non-null   object \n",
      " 10  PowerCode Code         5049 non-null   int64  \n",
      " 11  PowerCode              5049 non-null   object \n",
      " 12  Reference Period Code  0 non-null      float64\n",
      " 13  Reference Period       0 non-null      float64\n",
      " 14  Value                  5049 non-null   float64\n",
      " 15  Flag Codes             1291 non-null   object \n",
      " 16  Flags                  1291 non-null   object \n",
      "dtypes: float64(3), int64(3), object(11)\n",
      "memory usage: 670.7+ KB\n"
     ]
    }
   ],
   "source": [
    "gdp.info()"
   ]
  },
  {
   "cell_type": "code",
   "execution_count": 8,
   "id": "cd771fad",
   "metadata": {
    "scrolled": true
   },
   "outputs": [
    {
     "data": {
      "text/html": [
       "<div>\n",
       "<style scoped>\n",
       "    .dataframe tbody tr th:only-of-type {\n",
       "        vertical-align: middle;\n",
       "    }\n",
       "\n",
       "    .dataframe tbody tr th {\n",
       "        vertical-align: top;\n",
       "    }\n",
       "\n",
       "    .dataframe thead th {\n",
       "        text-align: right;\n",
       "    }\n",
       "</style>\n",
       "<table border=\"1\" class=\"dataframe\">\n",
       "  <thead>\n",
       "    <tr style=\"text-align: right;\">\n",
       "      <th></th>\n",
       "      <th>Country</th>\n",
       "      <th>LOCATION</th>\n",
       "      <th>Year</th>\n",
       "      <th>Value</th>\n",
       "    </tr>\n",
       "  </thead>\n",
       "  <tbody>\n",
       "    <tr>\n",
       "      <th>0</th>\n",
       "      <td>Australia</td>\n",
       "      <td>AUS</td>\n",
       "      <td>1959</td>\n",
       "      <td>16613.000000</td>\n",
       "    </tr>\n",
       "    <tr>\n",
       "      <th>1</th>\n",
       "      <td>Australia</td>\n",
       "      <td>AUS</td>\n",
       "      <td>1960</td>\n",
       "      <td>17574.000000</td>\n",
       "    </tr>\n",
       "    <tr>\n",
       "      <th>2</th>\n",
       "      <td>Australia</td>\n",
       "      <td>AUS</td>\n",
       "      <td>1961</td>\n",
       "      <td>17788.000000</td>\n",
       "    </tr>\n",
       "    <tr>\n",
       "      <th>3</th>\n",
       "      <td>Australia</td>\n",
       "      <td>AUS</td>\n",
       "      <td>1962</td>\n",
       "      <td>19232.000000</td>\n",
       "    </tr>\n",
       "    <tr>\n",
       "      <th>4</th>\n",
       "      <td>Australia</td>\n",
       "      <td>AUS</td>\n",
       "      <td>1963</td>\n",
       "      <td>21251.000000</td>\n",
       "    </tr>\n",
       "    <tr>\n",
       "      <th>...</th>\n",
       "      <td>...</td>\n",
       "      <td>...</td>\n",
       "      <td>...</td>\n",
       "      <td>...</td>\n",
       "    </tr>\n",
       "    <tr>\n",
       "      <th>5044</th>\n",
       "      <td>Senegal</td>\n",
       "      <td>SEN</td>\n",
       "      <td>2016</td>\n",
       "      <td>6.356069</td>\n",
       "    </tr>\n",
       "    <tr>\n",
       "      <th>5045</th>\n",
       "      <td>Senegal</td>\n",
       "      <td>SEN</td>\n",
       "      <td>2017</td>\n",
       "      <td>7.407486</td>\n",
       "    </tr>\n",
       "    <tr>\n",
       "      <th>5046</th>\n",
       "      <td>Senegal</td>\n",
       "      <td>SEN</td>\n",
       "      <td>2018</td>\n",
       "      <td>6.209241</td>\n",
       "    </tr>\n",
       "    <tr>\n",
       "      <th>5047</th>\n",
       "      <td>Senegal</td>\n",
       "      <td>SEN</td>\n",
       "      <td>2019</td>\n",
       "      <td>4.613628</td>\n",
       "    </tr>\n",
       "    <tr>\n",
       "      <th>5048</th>\n",
       "      <td>Senegal</td>\n",
       "      <td>SEN</td>\n",
       "      <td>2020</td>\n",
       "      <td>1.325505</td>\n",
       "    </tr>\n",
       "  </tbody>\n",
       "</table>\n",
       "<p>5049 rows × 4 columns</p>\n",
       "</div>"
      ],
      "text/plain": [
       "        Country LOCATION  Year         Value\n",
       "0     Australia      AUS  1959  16613.000000\n",
       "1     Australia      AUS  1960  17574.000000\n",
       "2     Australia      AUS  1961  17788.000000\n",
       "3     Australia      AUS  1962  19232.000000\n",
       "4     Australia      AUS  1963  21251.000000\n",
       "...         ...      ...   ...           ...\n",
       "5044    Senegal      SEN  2016      6.356069\n",
       "5045    Senegal      SEN  2017      7.407486\n",
       "5046    Senegal      SEN  2018      6.209241\n",
       "5047    Senegal      SEN  2019      4.613628\n",
       "5048    Senegal      SEN  2020      1.325505\n",
       "\n",
       "[5049 rows x 4 columns]"
      ]
     },
     "execution_count": 8,
     "metadata": {},
     "output_type": "execute_result"
    }
   ],
   "source": [
    "gdp = gdp[['Country', 'LOCATION', 'Year', 'Value']]\n",
    "gdp"
   ]
  },
  {
   "cell_type": "code",
   "execution_count": 12,
   "id": "17954528",
   "metadata": {},
   "outputs": [],
   "source": [
    "gdp.columns = ['국가명', '국가코드', '기준연도', 'gdp']"
   ]
  },
  {
   "cell_type": "code",
   "execution_count": 15,
   "id": "e43bf42a",
   "metadata": {},
   "outputs": [],
   "source": [
    "gdp.to_csv('국가별_gdp.csv', encoding='utf-8', index=False)"
   ]
  }
 ],
 "metadata": {
  "kernelspec": {
   "display_name": "ex_kernel",
   "language": "python",
   "name": "ex"
  },
  "language_info": {
   "codemirror_mode": {
    "name": "ipython",
    "version": 3
   },
   "file_extension": ".py",
   "mimetype": "text/x-python",
   "name": "python",
   "nbconvert_exporter": "python",
   "pygments_lexer": "ipython3",
   "version": "3.8.10"
  }
 },
 "nbformat": 4,
 "nbformat_minor": 5
}
