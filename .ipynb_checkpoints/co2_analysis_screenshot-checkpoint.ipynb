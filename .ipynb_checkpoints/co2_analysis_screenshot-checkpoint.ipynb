{
 "cells": [
  {
   "cell_type": "code",
   "execution_count": 12,
   "id": "b222573c",
   "metadata": {},
   "outputs": [],
   "source": [
    "import matplotlib.pyplot as plt\n",
    "import seaborn as sns\n",
    "import pandas as pd\n",
    "import numpy as np"
   ]
  },
  {
   "cell_type": "markdown",
   "id": "5044c747",
   "metadata": {},
   "source": [
    "# csv파일 불러오기\n",
    "- co2_emissions\n",
    "    - 국가별 이산화탄소 배출량\n",
    "    - 기간 : 1750-2020\n",
    "    - 단위 : 백만톤\n",
    "  \n",
    "- co2_weekly\n",
    "    - 주간 이산화탄소 농도\n",
    "    - 기간 : 1974-2023\n",
    "    - 단위 : ppm\n",
    "    \n",
    "- gdp\n",
    "    - 국가별 gdp\n",
    "    - 기간 : 1959-2022\n",
    "    - 단위 : 백만달러\n",
    "- gdp_growth\n",
    "    - 국가별 gdp 성장률\n",
    "    - 기간 : 1960-2021\n",
    "    - 단위 : %"
   ]
  },
  {
   "cell_type": "code",
   "execution_count": 13,
   "id": "91dd8bfb",
   "metadata": {
    "scrolled": false
   },
   "outputs": [
    {
     "data": {
      "text/html": [
       "<div>\n",
       "<style scoped>\n",
       "    .dataframe tbody tr th:only-of-type {\n",
       "        vertical-align: middle;\n",
       "    }\n",
       "\n",
       "    .dataframe tbody tr th {\n",
       "        vertical-align: top;\n",
       "    }\n",
       "\n",
       "    .dataframe thead th {\n",
       "        text-align: right;\n",
       "    }\n",
       "</style>\n",
       "<table border=\"1\" class=\"dataframe\">\n",
       "  <thead>\n",
       "    <tr style=\"text-align: right;\">\n",
       "      <th></th>\n",
       "      <th>국가코드</th>\n",
       "      <th>국가명</th>\n",
       "      <th>기준연도</th>\n",
       "      <th>인구수</th>\n",
       "      <th>총배출량</th>\n",
       "      <th>석탄기반</th>\n",
       "      <th>시멘트기반</th>\n",
       "      <th>석유기반</th>\n",
       "      <th>가스기반</th>\n",
       "      <th>연소기반</th>\n",
       "      <th>기타산업</th>\n",
       "      <th>배출량성장률</th>\n",
       "    </tr>\n",
       "  </thead>\n",
       "  <tbody>\n",
       "    <tr>\n",
       "      <th>0</th>\n",
       "      <td>AFG</td>\n",
       "      <td>Afghanistan</td>\n",
       "      <td>1949</td>\n",
       "      <td>7624058.0</td>\n",
       "      <td>0.015</td>\n",
       "      <td>0.015</td>\n",
       "      <td>NaN</td>\n",
       "      <td>NaN</td>\n",
       "      <td>NaN</td>\n",
       "      <td>NaN</td>\n",
       "      <td>NaN</td>\n",
       "      <td>NaN</td>\n",
       "    </tr>\n",
       "    <tr>\n",
       "      <th>1</th>\n",
       "      <td>AFG</td>\n",
       "      <td>Afghanistan</td>\n",
       "      <td>1950</td>\n",
       "      <td>7752117.0</td>\n",
       "      <td>0.084</td>\n",
       "      <td>0.021</td>\n",
       "      <td>NaN</td>\n",
       "      <td>0.063</td>\n",
       "      <td>NaN</td>\n",
       "      <td>NaN</td>\n",
       "      <td>NaN</td>\n",
       "      <td>0.07</td>\n",
       "    </tr>\n",
       "  </tbody>\n",
       "</table>\n",
       "</div>"
      ],
      "text/plain": [
       "  국가코드          국가명  기준연도        인구수   총배출량   석탄기반  시멘트기반   석유기반  가스기반  연소기반   \n",
       "0  AFG  Afghanistan  1949  7624058.0  0.015  0.015    NaN    NaN   NaN   NaN  \\\n",
       "1  AFG  Afghanistan  1950  7752117.0  0.084  0.021    NaN  0.063   NaN   NaN   \n",
       "\n",
       "   기타산업  배출량성장률  \n",
       "0   NaN     NaN  \n",
       "1   NaN    0.07  "
      ]
     },
     "execution_count": 13,
     "metadata": {},
     "output_type": "execute_result"
    }
   ],
   "source": [
    "## [국가별 이산화탄소 배출량]\n",
    "co2_emissions = pd.read_csv('국가별_co2 배출량.csv')\n",
    "co2_emissions[:2]"
   ]
  },
  {
   "cell_type": "code",
   "execution_count": 14,
   "id": "ba117106",
   "metadata": {},
   "outputs": [
    {
     "data": {
      "text/html": [
       "<div>\n",
       "<style scoped>\n",
       "    .dataframe tbody tr th:only-of-type {\n",
       "        vertical-align: middle;\n",
       "    }\n",
       "\n",
       "    .dataframe tbody tr th {\n",
       "        vertical-align: top;\n",
       "    }\n",
       "\n",
       "    .dataframe thead th {\n",
       "        text-align: right;\n",
       "    }\n",
       "</style>\n",
       "<table border=\"1\" class=\"dataframe\">\n",
       "  <thead>\n",
       "    <tr style=\"text-align: right;\">\n",
       "      <th></th>\n",
       "      <th>기준연도</th>\n",
       "      <th>기준월</th>\n",
       "      <th>기준일</th>\n",
       "      <th>평균값</th>\n",
       "      <th>1800년_이후_증가값</th>\n",
       "    </tr>\n",
       "  </thead>\n",
       "  <tbody>\n",
       "    <tr>\n",
       "      <th>0</th>\n",
       "      <td>1974</td>\n",
       "      <td>5</td>\n",
       "      <td>19</td>\n",
       "      <td>333.37</td>\n",
       "      <td>50.39</td>\n",
       "    </tr>\n",
       "    <tr>\n",
       "      <th>1</th>\n",
       "      <td>1974</td>\n",
       "      <td>5</td>\n",
       "      <td>26</td>\n",
       "      <td>332.95</td>\n",
       "      <td>50.05</td>\n",
       "    </tr>\n",
       "  </tbody>\n",
       "</table>\n",
       "</div>"
      ],
      "text/plain": [
       "   기준연도  기준월  기준일     평균값  1800년_이후_증가값\n",
       "0  1974    5   19  333.37         50.39\n",
       "1  1974    5   26  332.95         50.05"
      ]
     },
     "execution_count": 14,
     "metadata": {},
     "output_type": "execute_result"
    }
   ],
   "source": [
    "## [주간 이산화탄소 농도]\n",
    "co2_weekly = pd.read_csv('주간_co2 농도.csv')\n",
    "co2_weekly[:2]"
   ]
  },
  {
   "cell_type": "code",
   "execution_count": 15,
   "id": "58493f6b",
   "metadata": {},
   "outputs": [
    {
     "data": {
      "text/html": [
       "<div>\n",
       "<style scoped>\n",
       "    .dataframe tbody tr th:only-of-type {\n",
       "        vertical-align: middle;\n",
       "    }\n",
       "\n",
       "    .dataframe tbody tr th {\n",
       "        vertical-align: top;\n",
       "    }\n",
       "\n",
       "    .dataframe thead th {\n",
       "        text-align: right;\n",
       "    }\n",
       "</style>\n",
       "<table border=\"1\" class=\"dataframe\">\n",
       "  <thead>\n",
       "    <tr style=\"text-align: right;\">\n",
       "      <th></th>\n",
       "      <th>국가명</th>\n",
       "      <th>국가코드</th>\n",
       "      <th>기준연도</th>\n",
       "      <th>gdp</th>\n",
       "    </tr>\n",
       "  </thead>\n",
       "  <tbody>\n",
       "    <tr>\n",
       "      <th>0</th>\n",
       "      <td>Australia</td>\n",
       "      <td>AUS</td>\n",
       "      <td>1959</td>\n",
       "      <td>16613.0</td>\n",
       "    </tr>\n",
       "    <tr>\n",
       "      <th>1</th>\n",
       "      <td>Australia</td>\n",
       "      <td>AUS</td>\n",
       "      <td>1960</td>\n",
       "      <td>17574.0</td>\n",
       "    </tr>\n",
       "  </tbody>\n",
       "</table>\n",
       "</div>"
      ],
      "text/plain": [
       "         국가명 국가코드  기준연도      gdp\n",
       "0  Australia  AUS  1959  16613.0\n",
       "1  Australia  AUS  1960  17574.0"
      ]
     },
     "execution_count": 15,
     "metadata": {},
     "output_type": "execute_result"
    }
   ],
   "source": [
    "## [국가별 gdp]\n",
    "gdp = pd.read_csv('gdp.csv')\n",
    "gdp[:2]"
   ]
  },
  {
   "cell_type": "code",
   "execution_count": 16,
   "id": "c660e224",
   "metadata": {},
   "outputs": [
    {
     "data": {
      "text/html": [
       "<div>\n",
       "<style scoped>\n",
       "    .dataframe tbody tr th:only-of-type {\n",
       "        vertical-align: middle;\n",
       "    }\n",
       "\n",
       "    .dataframe tbody tr th {\n",
       "        vertical-align: top;\n",
       "    }\n",
       "\n",
       "    .dataframe thead th {\n",
       "        text-align: right;\n",
       "    }\n",
       "</style>\n",
       "<table border=\"1\" class=\"dataframe\">\n",
       "  <thead>\n",
       "    <tr style=\"text-align: right;\">\n",
       "      <th></th>\n",
       "      <th>국가명</th>\n",
       "      <th>국가코드</th>\n",
       "      <th>기준연도</th>\n",
       "      <th>gdp성장률</th>\n",
       "    </tr>\n",
       "  </thead>\n",
       "  <tbody>\n",
       "    <tr>\n",
       "      <th>0</th>\n",
       "      <td>Australia</td>\n",
       "      <td>AUS</td>\n",
       "      <td>1960</td>\n",
       "      <td>2.482656</td>\n",
       "    </tr>\n",
       "    <tr>\n",
       "      <th>1</th>\n",
       "      <td>Australia</td>\n",
       "      <td>AUS</td>\n",
       "      <td>1961</td>\n",
       "      <td>1.294611</td>\n",
       "    </tr>\n",
       "  </tbody>\n",
       "</table>\n",
       "</div>"
      ],
      "text/plain": [
       "         국가명 국가코드  기준연도    gdp성장률\n",
       "0  Australia  AUS  1960  2.482656\n",
       "1  Australia  AUS  1961  1.294611"
      ]
     },
     "execution_count": 16,
     "metadata": {},
     "output_type": "execute_result"
    }
   ],
   "source": [
    "## [국가별 gdp 성장률]\n",
    "gdp_growth = pd.read_csv('gdp_성장률.csv')\n",
    "gdp_growth[:2]"
   ]
  },
  {
   "cell_type": "markdown",
   "id": "1f929140",
   "metadata": {},
   "source": [
    "# 전처리\n",
    "- 각 데이터프레임의 기준연도(월, 일) dtype 크기 변경\n",
    "    int64 -> int16"
   ]
  },
  {
   "cell_type": "code",
   "execution_count": 17,
   "id": "3d036e13",
   "metadata": {
    "scrolled": true
   },
   "outputs": [],
   "source": [
    "co2_emissions = co2_emissions.astype({'기준연도': 'int16'})"
   ]
  },
  {
   "cell_type": "code",
   "execution_count": 18,
   "id": "ac143811",
   "metadata": {},
   "outputs": [],
   "source": [
    "co2_weekly = co2_weekly.astype({'기준연도': 'int16', '기준월': 'int16', '기준일': 'int16'})"
   ]
  },
  {
   "cell_type": "code",
   "execution_count": 19,
   "id": "fc5f3f87",
   "metadata": {},
   "outputs": [],
   "source": [
    "gdp = gdp.astype({'기준연도': 'int16'})"
   ]
  },
  {
   "cell_type": "markdown",
   "id": "9f4b9706",
   "metadata": {},
   "source": [
    "# 분석"
   ]
  },
  {
   "cell_type": "markdown",
   "id": "d180b381",
   "metadata": {},
   "source": [
    "## [가설 1] 2020년 이산화탄소 배출 상위 5개국의 배출원별 배출량은 석탄기반, 석유기반, 기타산업기반순으로 많을 것이다."
   ]
  },
  {
   "cell_type": "code",
   "execution_count": 20,
   "id": "ae237b9b",
   "metadata": {
    "scrolled": true
   },
   "outputs": [
    {
     "data": {
      "text/html": [
       "<div>\n",
       "<style scoped>\n",
       "    .dataframe tbody tr th:only-of-type {\n",
       "        vertical-align: middle;\n",
       "    }\n",
       "\n",
       "    .dataframe tbody tr th {\n",
       "        vertical-align: top;\n",
       "    }\n",
       "\n",
       "    .dataframe thead th {\n",
       "        text-align: right;\n",
       "    }\n",
       "</style>\n",
       "<table border=\"1\" class=\"dataframe\">\n",
       "  <thead>\n",
       "    <tr style=\"text-align: right;\">\n",
       "      <th></th>\n",
       "      <th>국가코드</th>\n",
       "      <th>국가명</th>\n",
       "      <th>기준연도</th>\n",
       "      <th>인구수</th>\n",
       "      <th>총배출량</th>\n",
       "      <th>석탄기반</th>\n",
       "      <th>시멘트기반</th>\n",
       "      <th>석유기반</th>\n",
       "      <th>가스기반</th>\n",
       "      <th>연소기반</th>\n",
       "      <th>기타산업</th>\n",
       "      <th>배출량성장률</th>\n",
       "    </tr>\n",
       "  </thead>\n",
       "  <tbody>\n",
       "    <tr>\n",
       "      <th>0</th>\n",
       "      <td>AFG</td>\n",
       "      <td>Afghanistan</td>\n",
       "      <td>1949</td>\n",
       "      <td>7624058.0</td>\n",
       "      <td>0.015</td>\n",
       "      <td>0.015</td>\n",
       "      <td>NaN</td>\n",
       "      <td>NaN</td>\n",
       "      <td>NaN</td>\n",
       "      <td>NaN</td>\n",
       "      <td>NaN</td>\n",
       "      <td>NaN</td>\n",
       "    </tr>\n",
       "    <tr>\n",
       "      <th>1</th>\n",
       "      <td>AFG</td>\n",
       "      <td>Afghanistan</td>\n",
       "      <td>1950</td>\n",
       "      <td>7752117.0</td>\n",
       "      <td>0.084</td>\n",
       "      <td>0.021</td>\n",
       "      <td>NaN</td>\n",
       "      <td>0.063</td>\n",
       "      <td>NaN</td>\n",
       "      <td>NaN</td>\n",
       "      <td>NaN</td>\n",
       "      <td>0.070</td>\n",
       "    </tr>\n",
       "    <tr>\n",
       "      <th>2</th>\n",
       "      <td>AFG</td>\n",
       "      <td>Afghanistan</td>\n",
       "      <td>1951</td>\n",
       "      <td>7840151.0</td>\n",
       "      <td>0.092</td>\n",
       "      <td>0.026</td>\n",
       "      <td>NaN</td>\n",
       "      <td>0.066</td>\n",
       "      <td>NaN</td>\n",
       "      <td>NaN</td>\n",
       "      <td>NaN</td>\n",
       "      <td>0.007</td>\n",
       "    </tr>\n",
       "    <tr>\n",
       "      <th>3</th>\n",
       "      <td>AFG</td>\n",
       "      <td>Afghanistan</td>\n",
       "      <td>1952</td>\n",
       "      <td>7935996.0</td>\n",
       "      <td>0.092</td>\n",
       "      <td>0.032</td>\n",
       "      <td>NaN</td>\n",
       "      <td>0.060</td>\n",
       "      <td>NaN</td>\n",
       "      <td>NaN</td>\n",
       "      <td>NaN</td>\n",
       "      <td>0.000</td>\n",
       "    </tr>\n",
       "    <tr>\n",
       "      <th>4</th>\n",
       "      <td>AFG</td>\n",
       "      <td>Afghanistan</td>\n",
       "      <td>1953</td>\n",
       "      <td>8039684.0</td>\n",
       "      <td>0.106</td>\n",
       "      <td>0.038</td>\n",
       "      <td>NaN</td>\n",
       "      <td>0.068</td>\n",
       "      <td>NaN</td>\n",
       "      <td>NaN</td>\n",
       "      <td>NaN</td>\n",
       "      <td>0.015</td>\n",
       "    </tr>\n",
       "  </tbody>\n",
       "</table>\n",
       "</div>"
      ],
      "text/plain": [
       "  국가코드          국가명  기준연도        인구수   총배출량   석탄기반  시멘트기반   석유기반  가스기반  연소기반   \n",
       "0  AFG  Afghanistan  1949  7624058.0  0.015  0.015    NaN    NaN   NaN   NaN  \\\n",
       "1  AFG  Afghanistan  1950  7752117.0  0.084  0.021    NaN  0.063   NaN   NaN   \n",
       "2  AFG  Afghanistan  1951  7840151.0  0.092  0.026    NaN  0.066   NaN   NaN   \n",
       "3  AFG  Afghanistan  1952  7935996.0  0.092  0.032    NaN  0.060   NaN   NaN   \n",
       "4  AFG  Afghanistan  1953  8039684.0  0.106  0.038    NaN  0.068   NaN   NaN   \n",
       "\n",
       "   기타산업  배출량성장률  \n",
       "0   NaN     NaN  \n",
       "1   NaN   0.070  \n",
       "2   NaN   0.007  \n",
       "3   NaN   0.000  \n",
       "4   NaN   0.015  "
      ]
     },
     "execution_count": 20,
     "metadata": {},
     "output_type": "execute_result"
    }
   ],
   "source": [
    "co2_emissions[:5]"
   ]
  },
  {
   "cell_type": "code",
   "execution_count": 28,
   "id": "a9214628",
   "metadata": {},
   "outputs": [],
   "source": [
    "co2_20 = co2_emissions.loc[co2_emissions.기준연도 == 2020].sort_values(by='총배출량', ascending=0)[1:6]"
   ]
  },
  {
   "cell_type": "code",
   "execution_count": 26,
   "id": "d7989d7b",
   "metadata": {},
   "outputs": [],
   "source": [
    "label = [i for i in co2_20.iloc[:, 5:-1].sum().sort_values(ascending=0).index]"
   ]
  },
  {
   "cell_type": "code",
   "execution_count": 27,
   "id": "65a855ca",
   "metadata": {},
   "outputs": [
    {
     "data": {
      "text/plain": [
       "Text(0, 0.5, '배출량 (백만톤)')"
      ]
     },
     "execution_count": 27,
     "metadata": {},
     "output_type": "execute_result"
    },
    {
     "data": {
      "image/png": "[encoded data removed]",
      "text/plain": [
       "<Figure size 1200x600 with 1 Axes>"
      ]
     },
     "metadata": {},
     "output_type": "display_data"
    }
   ],
   "source": [
    "plt.rcParams['font.family'] = 'D2coding'\n",
    "\n",
    "fig = sns.barplot(data=co2_20.iloc[:, 5:-1],\n",
    "                  errorbar=None,\n",
    "                  order=label,\n",
    "                  estimator='sum'\n",
    "                 )\n",
    "\n",
    "fig.figure.set_size_inches(12, 6)\n",
    "fig.set_title('2020 이산화탄소 배출량 상위 5개국의 배출원별 합계')\n",
    "\n",
    "plt.grid(axis='y', alpha=0.2)\n",
    "\n",
    "plt.xlabel('배출원인')\n",
    "plt.ylabel('배출량 (백만톤)')"
   ]
  },
  {
   "cell_type": "markdown",
   "id": "a548df11",
   "metadata": {},
   "source": [
    "### 국가별 배출원별 배출량"
   ]
  },
  {
   "cell_type": "code",
   "execution_count": null,
   "id": "906e2f71",
   "metadata": {},
   "outputs": [],
   "source": [
    "co2_20_reason = co2_20[['석탄기반', '석유기반', '가스기반', '시멘트기반', '기타산업', '연소기반']].T\n",
    "co2_20_reason.columns = co2_20.국가명"
   ]
  },
  {
   "cell_type": "code",
   "execution_count": null,
   "id": "3809fd12",
   "metadata": {
    "scrolled": false
   },
   "outputs": [],
   "source": [
    "ax = co2_20_reason.plot(kind='bar',\n",
    "                        figsize=[24, 3],\n",
    "                        subplots=True,\n",
    "                        layout=(1, 5),\n",
    "                        legend=False,\n",
    "                        rot=45\n",
    "#                         sharey=True\n",
    "                       )\n",
    "\n",
    "# plt.title('2020 이산화탄소 배출량 상위 5개국의 배출원')\n",
    "\n",
    "ax = ax.reshape(-1)\n",
    "[ax[idx].grid(axis='y', alpha=0.2) for idx in range(len(ax))]\n",
    "\n",
    "plt.show()"
   ]
  },
  {
   "cell_type": "markdown",
   "id": "11dc0a67",
   "metadata": {},
   "source": [
    "**[가설 1] 2020년 이산화탄소 배출 상위 5개국의 배출원별 배출량은 석탄기반, 석유기반, 기타산업기반순으로 많을 것이다.**\n",
    "- 상위 5개국의 배출원의 합계 중 가장 많은 양을 배출하는 원인은 석탄으로, 2020년 한 해동안 10657.277백만톤을 배출했고 이 중 7421.101백만톤은 중국에서 배출한 것으로 나타났다.\n",
    "    - 그 다음으로는 석유가 5001.126백만톤으로 이 중 2020.538백만톤은 미국에서, 1611.762백만톤은 중국에서 배출했다.\n",
    "    - 기타 산업으로 인한 배출량은 219.689백만톤으로 다른 배출원에 비해 적은 것으로 나타났다.\n",
    "- 5개국 중 중국, 인도, 일본은 석탄으로 인한 배출량이 가장 많았으나 미국과 러시아는 각각 석유, 가스로 인한 배출량이 가장 많았다."
   ]
  },
  {
   "cell_type": "markdown",
   "id": "6fe06589",
   "metadata": {},
   "source": [
    "## [가설 2] 이산화탄소 농도의 전년대비 증가율이 가장 높았던 연도에 중국, 미국, 러시아 배출량성장률이 증가했을 것이다."
   ]
  },
  {
   "cell_type": "markdown",
   "id": "4f4dd762",
   "metadata": {},
   "source": [
    "### 이산화탄소 농도의 전년대비 증가율이 가장 높았던 연도"
   ]
  },
  {
   "cell_type": "code",
   "execution_count": null,
   "id": "08371ce0",
   "metadata": {
    "scrolled": false
   },
   "outputs": [],
   "source": [
    "## [data] 연도별 이산화탄소 농도 평균\n",
    "co2_y_m = co2_weekly.groupby('기준연도').평균값.mean().to_frame()\n",
    "co2_y_m[:2]"
   ]
  },
  {
   "cell_type": "code",
   "execution_count": null,
   "id": "dff9aae6",
   "metadata": {},
   "outputs": [],
   "source": [
    "## [증감률 컬럼 추가]\n",
    "co2_y_m['전년대비증감률'] = 0"
   ]
  },
  {
   "cell_type": "code",
   "execution_count": null,
   "id": "10f7a73b",
   "metadata": {},
   "outputs": [],
   "source": [
    "## [증감률 컬럼에 값 추가]\n",
    "for year in co2_y_m.T:\n",
    "    co2_y_m.loc[year, '전년대비증감률'] = (co2_y_m.T[year+1].평균값 - co2_y_m.T[year].평균값) / co2_y_m.T[year].평균값 * 100\n",
    "    \n",
    "    if year == 2022:\n",
    "        break"
   ]
  },
  {
   "cell_type": "code",
   "execution_count": null,
   "id": "ffd3f2b1",
   "metadata": {},
   "outputs": [],
   "source": [
    "plt.rcParams['font.family'] = 'D2coding'\n",
    "\n",
    "fig = sns.lineplot(data=co2_y_m[:-2], \n",
    "                   x=co2_y_m.index[:-2], \n",
    "                   y='전년대비증감률',\n",
    "                  )\n",
    "\n",
    "fig.figure.set_size_inches(15, 5)\n",
    "fig.set_title('1974-2021 이산화탄소 농도 전년대비 증감률')\n",
    "\n",
    "plt.grid(alpha=0.2)\n",
    "\n",
    "fig.set_xticks(range(co2_y_m.index[0], co2_y_m.index[-2]))\n",
    "fig.set_xticklabels(fig.get_xticklabels(), rotation=45)\n",
    "\n",
    "plt.show()"
   ]
  },
  {
   "cell_type": "markdown",
   "id": "69e3a5e1",
   "metadata": {},
   "source": [
    "가장 높은 증가율을 보였던 해는 2015년이다."
   ]
  },
  {
   "cell_type": "markdown",
   "id": "2e712289",
   "metadata": {},
   "source": [
    "---\n",
    "### 중국, 미국, 러시아의 배출량성장률"
   ]
  },
  {
   "cell_type": "code",
   "execution_count": null,
   "id": "7734387a",
   "metadata": {
    "scrolled": true
   },
   "outputs": [],
   "source": [
    "co2_c_g = co2_emissions[(co2_emissions.국가코드.isin(['USA', 'CHN', 'RUS'])) & (co2_emissions.기준연도 > 2009)]\n",
    "co2_c_g"
   ]
  },
  {
   "cell_type": "code",
   "execution_count": null,
   "id": "f81df18d",
   "metadata": {
    "scrolled": false
   },
   "outputs": [],
   "source": [
    "fig = sns.lineplot(data=co2_c_g,\n",
    "                   x='기준연도',\n",
    "                   y='배출량성장률',\n",
    "                   hue='국가명'\n",
    "                  )\n",
    "\n",
    "fig.figure.set_size_inches(15, 5)\n",
    "fig.set_title('2010-2020 중국, 미국, 러시아 이산화탄소 배출량성장률')\n",
    "\n",
    "plt.grid(axis='y', alpha=0.2)\n",
    "\n",
    "fig.set_xticks(range(2010, 2021, 1))\n",
    "\n",
    "plt.show()"
   ]
  },
  {
   "cell_type": "code",
   "execution_count": null,
   "id": "c07e680f",
   "metadata": {
    "scrolled": true
   },
   "outputs": [],
   "source": [
    "co2_c_g.loc[co2_c_g.기준연도 == 2015]"
   ]
  },
  {
   "cell_type": "code",
   "execution_count": null,
   "id": "ea394254",
   "metadata": {
    "scrolled": true
   },
   "outputs": [],
   "source": [
    "co2_emissions.loc[co2_emissions.기준연도 == 2015].sort_values(by='배출량성장률', ascending=0)[:3]"
   ]
  },
  {
   "cell_type": "code",
   "execution_count": null,
   "id": "39cfb17a",
   "metadata": {},
   "outputs": [],
   "source": [
    "co2_weekly.loc[co2_weekly.기준연도 == 2015].mean()"
   ]
  },
  {
   "cell_type": "markdown",
   "id": "77f58bd3",
   "metadata": {},
   "source": [
    "**[가설 2] 이산화탄소 농도의 전년대비 증가율이 가장 높았던 연도에 중국, 미국, 러시아 배출량성장률이 증가했을 것이다.**\n",
    "- 1974년부터 2021년까지 이산화탄소 농도의 전년대비 증가율이 가장 높았던 연도는 2015년으로, 전년대비 0.851% 증가한 401.02ppm으로 측정되었다. 1800년 이후 121.02ppm 증가했다.\n",
    "- 2015년 러시아의 배출량성장률은 0.511%로 소폭 증가했고, 중국은 -151.037%, 미국은 -137.164%로 감소했다.\n",
    "---\n",
    "배출량성장률이 가장 높았던 국가는 인도로 전년대비 82.712% 증가했으며, 다음으로 사우디아라비아가 65.673%, 인도네시아가 52.502% 증가했다. "
   ]
  },
  {
   "cell_type": "markdown",
   "id": "70e90fdd",
   "metadata": {},
   "source": [
    "## [가설 3] GDP 성장률이 오른 국가는 이산화탄소 배출량 또한 함께 증가했을 것이다."
   ]
  },
  {
   "cell_type": "code",
   "execution_count": null,
   "id": "9f0bd0f1",
   "metadata": {
    "scrolled": false
   },
   "outputs": [],
   "source": [
    "gdp_growth.sort_values(by='gdp성장률', ascending=0)[:10]"
   ]
  },
  {
   "cell_type": "markdown",
   "id": "ce530014",
   "metadata": {},
   "source": [
    "### 2010-2020 아일랜드의 GDP성장률과 이산화탄소 배출량 성장률"
   ]
  },
  {
   "cell_type": "code",
   "execution_count": null,
   "id": "066cf80d",
   "metadata": {},
   "outputs": [],
   "source": [
    "irl_gdp = gdp_growth.groupby('국가코드').get_group('IRL').loc[(gdp_growth.기준연도 > 2009) & (gdp_growth.기준연도 < 2021)]\n",
    "irl_e = co2_emissions.groupby('국가코드').get_group('IRL').loc[(co2_emissions.기준연도 > 2009) & (co2_emissions.기준연도 < 2021)]"
   ]
  },
  {
   "cell_type": "code",
   "execution_count": null,
   "id": "a7efdb32",
   "metadata": {
    "scrolled": false
   },
   "outputs": [],
   "source": [
    "ax1 = irl_gdp.plot(figsize=(12, 6),\n",
    "                   x='기준연도',\n",
    "                   y='gdp성장률',\n",
    "                   \n",
    "                  )\n",
    "\n",
    "ax2 = irl_e.plot(ax=ax1,\n",
    "                 x='기준연도',\n",
    "                 y='배출량성장률',\n",
    "                 secondary_y=True,\n",
    "                )\n",
    "\n",
    "ax1.set_xticks(range(2010, 2021, 1))\n",
    "\n",
    "ax1.set_ylabel('GDP성장률 (%)')\n",
    "ax2.set_ylabel('배출량성장률 (%)')\n",
    "\n",
    "plt.grid(alpha=0.2)\n",
    "\n",
    "plt.show()"
   ]
  },
  {
   "cell_type": "markdown",
   "id": "3597112c",
   "metadata": {},
   "source": [
    "### 1971-1980 사우디아라비아의 GDP성장률과 이산화탄소 배출량 성장률"
   ]
  },
  {
   "cell_type": "code",
   "execution_count": null,
   "id": "59832ba2",
   "metadata": {
    "scrolled": true
   },
   "outputs": [],
   "source": [
    "sau_gdp = gdp_growth.groupby('국가코드').get_group('SAU').loc[gdp_growth.기준연도 < 1981]\n",
    "sau_e = co2_emissions.groupby('국가코드').get_group('SAU').loc[(co2_emissions.기준연도 > 1970) & (co2_emissions.기준연도 < 1981)]"
   ]
  },
  {
   "cell_type": "code",
   "execution_count": null,
   "id": "17783740",
   "metadata": {
    "scrolled": false
   },
   "outputs": [],
   "source": [
    "ax1 = sau_gdp.plot(figsize=(12, 6),\n",
    "                   x='기준연도',\n",
    "                   y='gdp성장률',\n",
    "                   \n",
    "                  )\n",
    "\n",
    "ax2 = sau_e.plot(ax=ax1,\n",
    "                 x='기준연도',\n",
    "                 y='배출량성장률',\n",
    "                 secondary_y=True,\n",
    "                )\n",
    "\n",
    "ax1.set_xticks(range(1971, 1981, 1))\n",
    "\n",
    "ax1.set_ylabel('GDP성장률 (%)')\n",
    "ax2.set_ylabel('배출량성장률 (%)')\n",
    "\n",
    "plt.grid(alpha=0.2)\n",
    "\n",
    "plt.show()"
   ]
  },
  {
   "cell_type": "markdown",
   "id": "01a73cfe",
   "metadata": {},
   "source": [
    "### 1980-1990 중국의 GDP성장률과 이산화탄소 배출량 성장률"
   ]
  },
  {
   "cell_type": "code",
   "execution_count": null,
   "id": "7db9d6c8",
   "metadata": {
    "scrolled": true
   },
   "outputs": [],
   "source": [
    "chn_gdp = gdp_growth.groupby('국가코드').get_group('CHN').loc[(gdp_growth.기준연도 > 1979) & (gdp_growth.기준연도 < 1991)]\n",
    "chn_e = co2_emissions.groupby('국가코드').get_group('CHN').loc[(co2_emissions.기준연도 > 1979) & (co2_emissions.기준연도 < 1991)]"
   ]
  },
  {
   "cell_type": "code",
   "execution_count": null,
   "id": "4448abcf",
   "metadata": {
    "scrolled": false
   },
   "outputs": [],
   "source": [
    "ax1 = chn_gdp.plot(figsize=(12, 6),\n",
    "                   x='기준연도',\n",
    "                   y='gdp성장률',\n",
    "                   \n",
    "                  )\n",
    "\n",
    "ax2 = chn_e.plot(ax=ax1,\n",
    "                 x='기준연도',\n",
    "                 y='배출량성장률',\n",
    "                 secondary_y=True,\n",
    "                )\n",
    "\n",
    "ax1.set_xticks(range(1980, 1991, 1))\n",
    "\n",
    "ax1.set_ylabel('GDP성장률 (%)')\n",
    "ax2.set_ylabel('배출량성장률 (%)')\n",
    "\n",
    "plt.grid(alpha=0.2)\n",
    "\n",
    "plt.show()"
   ]
  },
  {
   "cell_type": "code",
   "execution_count": null,
   "id": "86a6b1df",
   "metadata": {
    "scrolled": true
   },
   "outputs": [],
   "source": [
    "chn_gdp"
   ]
  },
  {
   "cell_type": "code",
   "execution_count": null,
   "id": "7c1ae734",
   "metadata": {
    "scrolled": true
   },
   "outputs": [],
   "source": [
    "chn_e"
   ]
  },
  {
   "cell_type": "markdown",
   "id": "f4f063f1",
   "metadata": {},
   "source": [
    "**[가설 3] GDP 성장률이 오른 국가는 이산화탄소 배출량 또한 함께 증가했을 것이다.**\n",
    "- 2015년 아일랜드의 GDP는 전년대비 24.370% 상승했으며, 당해 이산화탄소 배출량성장률은 1.779% 증가했다.\n",
    "- 1973년 사우디아라비아의 GDP는 24.170% 상승했으며, 배출량성장률은 24.772% 증가했다.\n",
    "- 1984년 중국의 GDP는 15.192% 성장했으며, 배출량성장률은 150.611% 증가했다.\n",
    "---\n",
    "세 국가의 그래프로 보아 이산화탄소 배출과 경제 간 서로 영향을 주는 정도는 다르지만, GDP와 이산화탄소 배출량이 밀접한 관계라는 것을 유추할 수 있다."
   ]
  }
 ],
 "metadata": {
  "kernelspec": {
   "display_name": "ex_kernel",
   "language": "python",
   "name": "ex"
  },
  "language_info": {
   "codemirror_mode": {
    "name": "ipython",
    "version": 3
   },
   "file_extension": ".py",
   "mimetype": "text/x-python",
   "name": "python",
   "nbconvert_exporter": "python",
   "pygments_lexer": "ipython3",
   "version": "3.8.10"
  },
  "toc": {
   "base_numbering": 1,
   "nav_menu": {},
   "number_sections": true,
   "sideBar": true,
   "skip_h1_title": false,
   "title_cell": "Table of Contents",
   "title_sidebar": "Contents",
   "toc_cell": false,
   "toc_position": {},
   "toc_section_display": true,
   "toc_window_display": false
  }
 },
 "nbformat": 4,
 "nbformat_minor": 5
}
