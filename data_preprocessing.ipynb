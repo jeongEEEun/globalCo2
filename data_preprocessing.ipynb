{
 "cells": [
  {
   "cell_type": "code",
   "execution_count": 16,
   "id": "6fd445b2",
   "metadata": {},
   "outputs": [],
   "source": [
    "import pandas as pd\n",
    "import numpy as np"
   ]
  },
  {
   "cell_type": "markdown",
   "id": "4a2b2365",
   "metadata": {},
   "source": [
    "# csv 파일 불러오기"
   ]
  },
  {
   "cell_type": "code",
   "execution_count": 17,
   "id": "3502ab8d",
   "metadata": {},
   "outputs": [],
   "source": [
    "## 주간 이산화탄소 농도\n",
    "co2_weekly = pd.read_csv('data/co2_weekly_mlo.csv')\n",
    "\n",
    "## 국가별 이산화탄소 배출량\n",
    "co2_emissions = pd.read_csv('data/owid-co2-data.csv')\n",
    "\n",
    "## 국가별 GDP\n",
    "gdp = pd.read_csv('data/oecdstat_gdp.csv')\n",
    "\n",
    "## 국가별 GDP 성장률\n",
    "gdp_growth = pd.read_csv('data/oecdstat_gdp_growth.csv')"
   ]
  },
  {
   "cell_type": "markdown",
   "id": "134e782b",
   "metadata": {},
   "source": [
    "# 전처리"
   ]
  },
  {
   "cell_type": "markdown",
   "id": "4c5b1c90",
   "metadata": {},
   "source": [
    "## co2_weekly : 주간 이산화탄소 농도"
   ]
  },
  {
   "cell_type": "markdown",
   "id": "1f54f00b",
   "metadata": {},
   "source": [
    "### 컬럼 정리\n",
    "- 필요한 컬럼만 추출 후 컬럼명 한글으로 변경"
   ]
  },
  {
   "cell_type": "code",
   "execution_count": 18,
   "id": "1afe10e6",
   "metadata": {},
   "outputs": [],
   "source": [
    "co2_weekly = co2_weekly[['year', 'month', 'day', 'average', 'increase since 1800']]\n",
    "co2_weekly.columns = ['기준연도', '기준월', '기준일', '평균값', '1800년_이후_증가값']"
   ]
  },
  {
   "cell_type": "markdown",
   "id": "ac57c6ce",
   "metadata": {},
   "source": [
    "### 결측치\n",
    "- -999.99 -> NaN"
   ]
  },
  {
   "cell_type": "code",
   "execution_count": 19,
   "id": "57ff63ab",
   "metadata": {},
   "outputs": [],
   "source": [
    "co2_weekly.loc[co2_weekly.평균값 == -999.99, '평균값'] = np.nan"
   ]
  },
  {
   "cell_type": "markdown",
   "id": "449484c1",
   "metadata": {},
   "source": [
    "### csv 파일 저장\n",
    "- 주간_co2 농도.csv"
   ]
  },
  {
   "cell_type": "code",
   "execution_count": 20,
   "id": "589cf43e",
   "metadata": {},
   "outputs": [],
   "source": [
    "co2_weekly.to_csv('주간_co2 농도.csv', encoding='utf-8', index=False)"
   ]
  },
  {
   "cell_type": "markdown",
   "id": "cc588f0a",
   "metadata": {},
   "source": [
    "## co2_emissions : 국가별 이산화탄소 배출량"
   ]
  },
  {
   "cell_type": "markdown",
   "id": "a03513cc",
   "metadata": {},
   "source": [
    "### 지수표현식 -> 실수"
   ]
  },
  {
   "cell_type": "code",
   "execution_count": 21,
   "id": "b3de39ef",
   "metadata": {},
   "outputs": [],
   "source": [
    "pd.options.display.float_format = '{:.5f}'.format"
   ]
  },
  {
   "cell_type": "markdown",
   "id": "bca9643d",
   "metadata": {},
   "source": [
    "### 컬럼 정리\n",
    "- 필요한 컬럼만 추출 후 컬럼명 한글으로 변경"
   ]
  },
  {
   "cell_type": "code",
   "execution_count": 22,
   "id": "58c4ada4",
   "metadata": {},
   "outputs": [],
   "source": [
    "## co2 : 총 배출량, 이후 컬럼들은 원인별 배출량(석탄생산기반 배출량, 시멘트생산기반 배출량, 석유생산기반 배출량 등)\n",
    "## co2_growth_abs : co2 배출량 성장률\n",
    "co2_emissions = co2_emissions[['iso_code', 'country', 'year', 'population', 'co2', \n",
    "                               'coal_co2', 'cement_co2', 'oil_co2', 'gas_co2',\n",
    "                               'flaring_co2', 'other_industry_co2', 'co2_growth_abs'\n",
    "                              ]]"
   ]
  },
  {
   "cell_type": "code",
   "execution_count": 23,
   "id": "4785e370",
   "metadata": {},
   "outputs": [],
   "source": [
    "co2_emissions.columns = ['국가코드', '국가명', '기준연도', '인구수', \n",
    "                         '총배출량', '석탄기반', '시멘트기반',\n",
    "                         '석유기반', '가스기반', '연소기반',\n",
    "                         '기타산업', '배출량성장률'\n",
    "                        ]"
   ]
  },
  {
   "cell_type": "markdown",
   "id": "b328da23",
   "metadata": {},
   "source": [
    "###  결측치\n",
    "- 총배출량, 국가코드가 결측치인 행 삭제 후 인덱스 재설정"
   ]
  },
  {
   "cell_type": "code",
   "execution_count": 24,
   "id": "69bb29e8",
   "metadata": {},
   "outputs": [],
   "source": [
    "co2_emissions = co2_emissions.drop(index=co2_emissions.loc[co2_emissions.총배출량.isna()].index)\n",
    "co2_emissions = co2_emissions.drop(index=co2_emissions.loc[co2_emissions.국가코드.isna()].index)"
   ]
  },
  {
   "cell_type": "code",
   "execution_count": 25,
   "id": "835d1e9a",
   "metadata": {},
   "outputs": [],
   "source": [
    "## 인덱스 재설정\n",
    "co2_emissions.reset_index(drop=True, inplace=True)"
   ]
  },
  {
   "cell_type": "markdown",
   "id": "bdbeef44",
   "metadata": {},
   "source": [
    "### csv 파일 저장\n",
    "- 국가별_co2 배출량.csv : 데이터로 사용할 파일\n",
    "- 국가별_co2 배출량_국가목록.csv : 국가코드 확인용 파일"
   ]
  },
  {
   "cell_type": "code",
   "execution_count": 27,
   "id": "a48449db",
   "metadata": {},
   "outputs": [],
   "source": [
    "co2_emissions.to_csv('국가별_co2 배출량.csv', encoding='utf-8', index=False)\n",
    "co2_emissions.groupby(['국가명', '국가코드']).size().to_csv('국가별이산화탄소배출량_국가목록.csv', encoding='utf-8', index=False)"
   ]
  },
  {
   "cell_type": "markdown",
   "id": "0b6f9b80",
   "metadata": {},
   "source": [
    "## 국가별 GDP"
   ]
  },
  {
   "cell_type": "markdown",
   "id": "699af2cd",
   "metadata": {},
   "source": [
    "### 컬럼 정리\n",
    "- 필요한 컬럼만 추출"
   ]
  },
  {
   "cell_type": "code",
   "execution_count": 28,
   "id": "c1693c2b",
   "metadata": {},
   "outputs": [],
   "source": [
    "gdp = gdp[['Country', 'LOCATION', 'Year', 'Value']]\n",
    "gdp.columns = ['국가명', '국가코드', '기준연도', 'gdp']"
   ]
  },
  {
   "cell_type": "markdown",
   "id": "25853036",
   "metadata": {},
   "source": [
    "### csv 파일 저장\n",
    "- gdp.csv"
   ]
  },
  {
   "cell_type": "code",
   "execution_count": 29,
   "id": "90fdafa5",
   "metadata": {},
   "outputs": [],
   "source": [
    "gdp.to_csv('gdp.csv', encoding='utf-8', index=False)"
   ]
  },
  {
   "cell_type": "markdown",
   "id": "7d59accf",
   "metadata": {},
   "source": [
    "## 국가별 GDP 성장률"
   ]
  },
  {
   "cell_type": "code",
   "execution_count": 30,
   "id": "e79b531f",
   "metadata": {},
   "outputs": [],
   "source": [
    "gdp_growth = gdp_growth[['Country', 'LOCATION', 'Year', 'Value']]\n",
    "gdp_growth.columns = ['국가명', '국가코드', '기준연도', 'gdp성장률']"
   ]
  },
  {
   "cell_type": "markdown",
   "id": "7dc86255",
   "metadata": {},
   "source": [
    "### csv 파일 저장\n",
    "- gdp_성장률.csv"
   ]
  },
  {
   "cell_type": "code",
   "execution_count": 31,
   "id": "586e6e26",
   "metadata": {},
   "outputs": [],
   "source": [
    "gdp_growth.to_csv('gdp_성장률.csv', encoding='utf-8', index=False)"
   ]
  }
 ],
 "metadata": {
  "kernelspec": {
   "display_name": "ex_kernel",
   "language": "python",
   "name": "ex"
  },
  "language_info": {
   "codemirror_mode": {
    "name": "ipython",
    "version": 3
   },
   "file_extension": ".py",
   "mimetype": "text/x-python",
   "name": "python",
   "nbconvert_exporter": "python",
   "pygments_lexer": "ipython3",
   "version": "3.8.10"
  },
  "toc": {
   "base_numbering": 1,
   "nav_menu": {},
   "number_sections": true,
   "sideBar": true,
   "skip_h1_title": false,
   "title_cell": "Table of Contents",
   "title_sidebar": "Contents",
   "toc_cell": false,
   "toc_position": {},
   "toc_section_display": true,
   "toc_window_display": false
  }
 },
 "nbformat": 4,
 "nbformat_minor": 5
}
